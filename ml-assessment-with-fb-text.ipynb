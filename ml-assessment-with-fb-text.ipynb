{
 "cells": [
  {
   "cell_type": "markdown",
   "metadata": {
    "collapsed": true
   },
   "source": [
    "## ML data assessment\n",
    "The first step is to import the the packages I'll be using. I'll start with Pandas for importing the data and initial cleaning of the data. Various parts of Scikit-Learn will become important in the next steps of processing the data."
   ]
  },
  {
   "cell_type": "code",
   "execution_count": 2,
   "metadata": {
    "collapsed": true
   },
   "outputs": [],
   "source": [
    "import numpy as np\n",
    "import pandas as pd\n",
    "from src.functions import import_json_to_df"
   ]
  },
  {
   "cell_type": "markdown",
   "metadata": {},
   "source": [
    "### Data preparation and Exploration\n",
    "The first step is to import the data into Pandas to prepare it for processing. The function `import_json_to_df` uses `json_normalize` to flatten nested dicts inside the JSON into new columns. An unfortunate side-effect is that the columns are stored as object types when they should be numeric. This import is included in a function in a separate file and imported to keep this file cleaner."
   ]
  },
  {
   "cell_type": "code",
   "execution_count": 3,
   "metadata": {
    "collapsed": true
   },
   "outputs": [],
   "source": [
    "facebook_path = \"data-sample/facebook-rotterdam-20170131.json\"\n",
    "factual_path = \"data-sample/factual-rotterdam-20170207.csv\"\n",
    "google_path = \"data-sample/google-rotterdam-20170207.json\"\n",
    "\n",
    "df_facebook = import_json_to_df(facebook_path)\n",
    "df_factual = pd.read_csv(factual_path)\n",
    "df_google = import_json_to_df(google_path)"
   ]
  },
  {
   "cell_type": "markdown",
   "metadata": {},
   "source": [
    "Changing columns with NaN values to numeric has the unintended consequence that long integer values are changed to float and subject to floating-point errors. Skipping this step for now."
   ]
  },
  {
   "cell_type": "code",
   "execution_count": 4,
   "metadata": {
    "collapsed": true
   },
   "outputs": [],
   "source": [
    "# Some features were tagged as a numeric type and could be converted\n",
    "#fb_numeric_columns = df_facebook.columns[df_facebook.columns.str.contains('numberLong')]\n",
    "#df_facebook[fb_numeric_columns] = \\\n",
    "#    df_facebook[fb_numeric_columns].apply(pd.to_numeric)"
   ]
  },
  {
   "cell_type": "markdown",
   "metadata": {},
   "source": [
    "Not all of the data represents entities located in Rotterdam, NL. For now, this doesn't have much affect on the data (less than 10 out of 14516 entries), but could be important later."
   ]
  },
  {
   "cell_type": "code",
   "execution_count": 5,
   "metadata": {},
   "outputs": [
    {
     "data": {
      "text/html": [
       "<div>\n",
       "<style>\n",
       "    .dataframe thead tr:only-child th {\n",
       "        text-align: right;\n",
       "    }\n",
       "\n",
       "    .dataframe thead th {\n",
       "        text-align: left;\n",
       "    }\n",
       "\n",
       "    .dataframe tbody tr th {\n",
       "        vertical-align: top;\n",
       "    }\n",
       "</style>\n",
       "<table border=\"1\" class=\"dataframe\">\n",
       "  <thead>\n",
       "    <tr style=\"text-align: right;\">\n",
       "      <th></th>\n",
       "      <th>name</th>\n",
       "      <th>location_country</th>\n",
       "    </tr>\n",
       "  </thead>\n",
       "  <tbody>\n",
       "    <tr>\n",
       "      <th>4024</th>\n",
       "      <td>Rotterdam, Limpopo, South Africa</td>\n",
       "      <td>South Africa</td>\n",
       "    </tr>\n",
       "    <tr>\n",
       "      <th>7650</th>\n",
       "      <td>Recovery Sports Grill</td>\n",
       "      <td>United States</td>\n",
       "    </tr>\n",
       "    <tr>\n",
       "      <th>7677</th>\n",
       "      <td>Bricklayers Pub and Pizzeria</td>\n",
       "      <td>United States</td>\n",
       "    </tr>\n",
       "    <tr>\n",
       "      <th>7715</th>\n",
       "      <td>Rotterdam Mall Cinema</td>\n",
       "      <td>United States</td>\n",
       "    </tr>\n",
       "    <tr>\n",
       "      <th>8299</th>\n",
       "      <td>Rotterdam, Eastern Cape, South Africa</td>\n",
       "      <td>South Africa</td>\n",
       "    </tr>\n",
       "    <tr>\n",
       "      <th>8309</th>\n",
       "      <td>Rotterdam (New York)</td>\n",
       "      <td>United States</td>\n",
       "    </tr>\n",
       "    <tr>\n",
       "      <th>9894</th>\n",
       "      <td>Rotterdam Elks Lodge #2157</td>\n",
       "      <td>United States</td>\n",
       "    </tr>\n",
       "    <tr>\n",
       "      <th>12541</th>\n",
       "      <td>Entertainment Express</td>\n",
       "      <td>United States</td>\n",
       "    </tr>\n",
       "    <tr>\n",
       "      <th>13493</th>\n",
       "      <td>Planet Fitness</td>\n",
       "      <td>United States</td>\n",
       "    </tr>\n",
       "  </tbody>\n",
       "</table>\n",
       "</div>"
      ],
      "text/plain": [
       "                                        name location_country\n",
       "4024        Rotterdam, Limpopo, South Africa     South Africa\n",
       "7650                   Recovery Sports Grill    United States\n",
       "7677            Bricklayers Pub and Pizzeria    United States\n",
       "7715                   Rotterdam Mall Cinema    United States\n",
       "8299   Rotterdam, Eastern Cape, South Africa     South Africa\n",
       "8309                    Rotterdam (New York)    United States\n",
       "9894              Rotterdam Elks Lodge #2157    United States\n",
       "12541                  Entertainment Express    United States\n",
       "13493                         Planet Fitness    United States"
      ]
     },
     "execution_count": 5,
     "metadata": {},
     "output_type": "execute_result"
    }
   ],
   "source": [
    "df_facebook[(df_facebook['location_country'] \n",
    "             != 'Netherlands') & (df_facebook['location_country'].notnull())][['name', 'location_country']]"
   ]
  },
  {
   "cell_type": "markdown",
   "metadata": {},
   "source": [
    "Looking at the `.info()` for each set can give some insight into what data is available - how many features have `NaN` values, and how much of the data is populated. Some of the numerical data could be filled in, and a separate feature could be used to track which values were originally `NaN`. Or the data can be filtered to only include available values. Columns with no data can safely be dropped (preferrably in the import stage)."
   ]
  },
  {
   "cell_type": "code",
   "execution_count": 6,
   "metadata": {
    "scrolled": true
   },
   "outputs": [
    {
     "name": "stdout",
     "output_type": "stream",
     "text": [
      "<class 'pandas.core.frame.DataFrame'>\n",
      "RangeIndex: 14516 entries, 0 to 14515\n",
      "Data columns (total 135 columns):\n",
      "__timestamp_$numberLong                         14516 non-null object\n",
      "__timestamp_basic_$numberLong                   14498 non-null object\n",
      "__timestamp_detail_$numberLong                  14478 non-null object\n",
      "__timestamp_insights_$numberLong                8059 non-null object\n",
      "__timestamp_photos_$numberLong                  8059 non-null object\n",
      "about                                           10329 non-null object\n",
      "affiliation                                     41 non-null object\n",
      "artists_we_like                                 2 non-null object\n",
      "attire                                          159 non-null object\n",
      "awards                                          608 non-null object\n",
      "band_interests                                  1 non-null object\n",
      "band_members                                    1 non-null object\n",
      "best_page_id                                    1046 non-null object\n",
      "best_page_name                                  1046 non-null object\n",
      "bio                                             8 non-null object\n",
      "birthday                                        1911 non-null object\n",
      "booking_agent                                   2 non-null object\n",
      "category                                        14516 non-null object\n",
      "category_list                                   14513 non-null object\n",
      "company_overview                                629 non-null object\n",
      "cover_cover_id                                  11098 non-null object\n",
      "cover_id                                        11098 non-null object\n",
      "cover_offset_x_$numberLong                      11098 non-null object\n",
      "cover_offset_y_$numberLong                      11098 non-null object\n",
      "cover_source                                    11098 non-null object\n",
      "culinary_team                                   122 non-null object\n",
      "current_location                                12 non-null object\n",
      "description                                     6588 non-null object\n",
      "description_html                                6588 non-null object\n",
      "emails                                          8404 non-null object\n",
      "food_styles                                     542 non-null object\n",
      "founded                                         2357 non-null object\n",
      "general_info                                    674 non-null object\n",
      "general_manager                                 206 non-null object\n",
      "genre                                           14 non-null object\n",
      "has_added_app                                   14478 non-null object\n",
      "hometown                                        6 non-null object\n",
      "hours_fri_1_close                               4757 non-null object\n",
      "hours_fri_1_open                                4758 non-null object\n",
      "hours_fri_2_close                               77 non-null object\n",
      "hours_fri_2_open                                77 non-null object\n",
      "hours_mon_1_close                               3758 non-null object\n",
      "hours_mon_1_open                                3758 non-null object\n",
      "hours_mon_2_close                               60 non-null object\n",
      "hours_mon_2_open                                60 non-null object\n",
      "hours_sat_1_close                               3790 non-null object\n",
      "hours_sat_1_open                                3791 non-null object\n",
      "hours_sat_2_close                               22 non-null object\n",
      "hours_sat_2_open                                22 non-null object\n",
      "hours_sun_1_close                               2300 non-null object\n",
      "hours_sun_1_open                                2301 non-null object\n",
      "hours_sun_2_close                               17 non-null object\n",
      "hours_sun_2_open                                17 non-null object\n",
      "hours_thu_1_close                               4735 non-null object\n",
      "hours_thu_1_open                                4736 non-null object\n",
      "hours_thu_2_close                               69 non-null object\n",
      "hours_thu_2_open                                69 non-null object\n",
      "hours_tue_1_close                               4498 non-null object\n",
      "hours_tue_1_open                                4498 non-null object\n",
      "hours_tue_2_close                               58 non-null object\n",
      "hours_tue_2_open                                58 non-null object\n",
      "hours_wed_1_close                               4688 non-null object\n",
      "hours_wed_1_open                                4689 non-null object\n",
      "hours_wed_2_close                               65 non-null object\n",
      "hours_wed_2_open                                65 non-null object\n",
      "id                                              14516 non-null object\n",
      "influences                                      3 non-null object\n",
      "insights_data                                   8059 non-null object\n",
      "insights_paging_next                            8059 non-null object\n",
      "insights_paging_previous                        8059 non-null object\n",
      "is_community_page                               14478 non-null object\n",
      "is_permanently_closed                           14478 non-null object\n",
      "is_published                                    14478 non-null object\n",
      "is_unclaimed                                    14478 non-null object\n",
      "is_verified                                     14478 non-null object\n",
      "likes_$numberLong                               14478 non-null object\n",
      "link                                            14478 non-null object\n",
      "location_city                                   14516 non-null object\n",
      "location_country                                14514 non-null object\n",
      "location_latitude                               14452 non-null float64\n",
      "location_located_in                             61 non-null object\n",
      "location_longitude                              14452 non-null float64\n",
      "location_state                                  63 non-null object\n",
      "location_street                                 12420 non-null object\n",
      "location_zip                                    11819 non-null object\n",
      "mission                                         1812 non-null object\n",
      "name                                            14516 non-null object\n",
      "network                                         1 non-null object\n",
      "parent_page_id                                  121 non-null object\n",
      "parent_page_name                                121 non-null object\n",
      "parking_lot_$numberLong                         9827 non-null object\n",
      "parking_street_$numberLong                      9827 non-null object\n",
      "parking_valet_$numberLong                       9827 non-null object\n",
      "payment_options_amex_$numberLong                578 non-null object\n",
      "payment_options_cash_only_$numberLong           578 non-null object\n",
      "payment_options_discover_$numberLong            578 non-null object\n",
      "payment_options_mastercard_$numberLong          578 non-null object\n",
      "payment_options_visa_$numberLong                578 non-null object\n",
      "personal_info                                   6 non-null object\n",
      "personal_interests                              5 non-null object\n",
      "pharma_safety_info                              1 non-null object\n",
      "phone                                           11417 non-null object\n",
      "photos_data                                     8059 non-null object\n",
      "photos_paging_cursors_after                     6186 non-null object\n",
      "photos_paging_cursors_before                    6186 non-null object\n",
      "photos_paging_next                              71 non-null object\n",
      "picture_data_is_silhouette                      14478 non-null object\n",
      "picture_data_url                                14478 non-null object\n",
      "place_topics_data                               12366 non-null object\n",
      "press_contact                                   6 non-null object\n",
      "price_range                                     2596 non-null object\n",
      "produced_by                                     1 non-null object\n",
      "products                                        2276 non-null object\n",
      "public_transit                                  1004 non-null object\n",
      "release_date                                    18 non-null object\n",
      "restaurant_services_catering_$numberLong        858 non-null object\n",
      "restaurant_services_delivery_$numberLong        859 non-null object\n",
      "restaurant_services_groups_$numberLong          858 non-null object\n",
      "restaurant_services_kids_$numberLong            858 non-null object\n",
      "restaurant_services_outdoor_$numberLong         858 non-null object\n",
      "restaurant_services_pickup_$numberLong          88 non-null object\n",
      "restaurant_services_reserve_$numberLong         901 non-null object\n",
      "restaurant_services_takeout_$numberLong         859 non-null object\n",
      "restaurant_services_waiter_$numberLong          858 non-null object\n",
      "restaurant_services_walkins_$numberLong         858 non-null object\n",
      "restaurant_specialties_breakfast_$numberLong    690 non-null object\n",
      "restaurant_specialties_coffee_$numberLong       690 non-null object\n",
      "restaurant_specialties_dinner_$numberLong       690 non-null object\n",
      "restaurant_specialties_drinks_$numberLong       690 non-null object\n",
      "restaurant_specialties_lunch_$numberLong        690 non-null object\n",
      "store_number_$numberLong                        120 non-null object\n",
      "studio                                          1 non-null object\n",
      "talking_about_count_$numberLong                 14478 non-null object\n",
      "website                                         11644 non-null object\n",
      "were_here_count_$numberLong                     14478 non-null object\n",
      "dtypes: float64(2), object(133)\n",
      "memory usage: 15.0+ MB\n"
     ]
    }
   ],
   "source": [
    "df_facebook.info(max_cols=150)"
   ]
  },
  {
   "cell_type": "code",
   "execution_count": 7,
   "metadata": {},
   "outputs": [
    {
     "name": "stdout",
     "output_type": "stream",
     "text": [
      "<class 'pandas.core.frame.DataFrame'>\n",
      "RangeIndex: 53828 entries, 0 to 53827\n",
      "Data columns (total 30 columns):\n",
      "factual_id            53828 non-null object\n",
      "name                  53828 non-null object\n",
      "address               51429 non-null object\n",
      "address_extended      11 non-null object\n",
      "po_box                0 non-null float64\n",
      "locality              53828 non-null object\n",
      "region                53828 non-null object\n",
      "post_town             0 non-null float64\n",
      "admin_region          0 non-null float64\n",
      "postcode              50253 non-null object\n",
      "country               53828 non-null object\n",
      "tel                   50529 non-null object\n",
      "fax                   9401 non-null object\n",
      "latitude              53828 non-null float64\n",
      "longitude             53828 non-null float64\n",
      "neighborhood          24950 non-null object\n",
      "website               23815 non-null object\n",
      "email                 1019 non-null object\n",
      "category_ids          47589 non-null object\n",
      "category_labels       47589 non-null object\n",
      "chain_name            0 non-null float64\n",
      "chain_id              0 non-null float64\n",
      "hours                 3478 non-null object\n",
      "hours_display         3478 non-null object\n",
      "existence             53828 non-null float64\n",
      "_org_filename         53828 non-null object\n",
      "_org_filedate         53828 non-null object\n",
      "_imported             53828 non-null object\n",
      "__main_category_id    53828 non-null int64\n",
      "__hash                53828 non-null object\n",
      "dtypes: float64(8), int64(1), object(21)\n",
      "memory usage: 12.3+ MB\n"
     ]
    }
   ],
   "source": [
    "df_factual.info()"
   ]
  },
  {
   "cell_type": "code",
   "execution_count": 8,
   "metadata": {},
   "outputs": [
    {
     "name": "stdout",
     "output_type": "stream",
     "text": [
      "<class 'pandas.core.frame.DataFrame'>\n",
      "RangeIndex: 91242 entries, 0 to 91241\n",
      "Data columns (total 32 columns):\n",
      "address_components                 91242 non-null object\n",
      "adr_address                        91242 non-null object\n",
      "formatted_address                  91242 non-null object\n",
      "formatted_phone_number             66517 non-null object\n",
      "geometry_location_lat              91242 non-null float64\n",
      "geometry_location_lng              91242 non-null float64\n",
      "geometry_viewport_northeast_lat    76375 non-null float64\n",
      "geometry_viewport_northeast_lng    76375 non-null float64\n",
      "geometry_viewport_southwest_lat    76375 non-null float64\n",
      "geometry_viewport_southwest_lng    76375 non-null float64\n",
      "icon                               91242 non-null object\n",
      "id                                 91242 non-null object\n",
      "international_phone_number         66517 non-null object\n",
      "loc_coordinates                    91242 non-null object\n",
      "loc_type                           91242 non-null object\n",
      "name                               91242 non-null object\n",
      "opening_hours_open_now             11845 non-null object\n",
      "opening_hours_periods              11845 non-null object\n",
      "opening_hours_weekday_text         11845 non-null object\n",
      "permanently_closed                 3 non-null object\n",
      "photos                             10917 non-null object\n",
      "place_id                           91242 non-null object\n",
      "price_level                        148 non-null float64\n",
      "rating                             1666 non-null float64\n",
      "reference                          91242 non-null object\n",
      "reviews                            7778 non-null object\n",
      "scope                              91242 non-null object\n",
      "types                              91242 non-null object\n",
      "url                                91242 non-null object\n",
      "utc_offset                         91242 non-null int64\n",
      "vicinity                           91242 non-null object\n",
      "website                            29345 non-null object\n",
      "dtypes: float64(8), int64(1), object(23)\n",
      "memory usage: 22.3+ MB\n"
     ]
    }
   ],
   "source": [
    "df_google.info()"
   ]
  },
  {
   "cell_type": "markdown",
   "metadata": {},
   "source": [
    "Only the factual data set claims to have duplicate records. These often appear to be locations in a chain, so different instances of the same business and not necessarily duplicated information. None of the records are complete duplicates. In this sense, all the data sets contain duplicate values (a search using `df_google[df_google['name'].str.contains('AMRO')]` confirms this)."
   ]
  },
  {
   "cell_type": "code",
   "execution_count": 9,
   "metadata": {},
   "outputs": [
    {
     "data": {
      "text/html": [
       "<div>\n",
       "<style>\n",
       "    .dataframe thead tr:only-child th {\n",
       "        text-align: right;\n",
       "    }\n",
       "\n",
       "    .dataframe thead th {\n",
       "        text-align: left;\n",
       "    }\n",
       "\n",
       "    .dataframe tbody tr th {\n",
       "        vertical-align: top;\n",
       "    }\n",
       "</style>\n",
       "<table border=\"1\" class=\"dataframe\">\n",
       "  <thead>\n",
       "    <tr style=\"text-align: right;\">\n",
       "      <th></th>\n",
       "      <th>factual_id</th>\n",
       "      <th>name</th>\n",
       "      <th>address</th>\n",
       "      <th>address_extended</th>\n",
       "      <th>po_box</th>\n",
       "      <th>locality</th>\n",
       "      <th>region</th>\n",
       "      <th>post_town</th>\n",
       "      <th>admin_region</th>\n",
       "      <th>postcode</th>\n",
       "      <th>...</th>\n",
       "      <th>chain_name</th>\n",
       "      <th>chain_id</th>\n",
       "      <th>hours</th>\n",
       "      <th>hours_display</th>\n",
       "      <th>existence</th>\n",
       "      <th>_org_filename</th>\n",
       "      <th>_org_filedate</th>\n",
       "      <th>_imported</th>\n",
       "      <th>__main_category_id</th>\n",
       "      <th>__hash</th>\n",
       "    </tr>\n",
       "  </thead>\n",
       "  <tbody>\n",
       "    <tr>\n",
       "      <th>37721</th>\n",
       "      <td>f033fad0-94f3-4f9e-b8f0-beaa60f93fbf</td>\n",
       "      <td>Zeetuin Kinderdagverblijf De</td>\n",
       "      <td>Statenweg 123/A</td>\n",
       "      <td>NaN</td>\n",
       "      <td>NaN</td>\n",
       "      <td>Rotterdam</td>\n",
       "      <td>Zuid-Holland</td>\n",
       "      <td>NaN</td>\n",
       "      <td>NaN</td>\n",
       "      <td>3039 HK</td>\n",
       "      <td>...</td>\n",
       "      <td>NaN</td>\n",
       "      <td>NaN</td>\n",
       "      <td>NaN</td>\n",
       "      <td>NaN</td>\n",
       "      <td>0.6</td>\n",
       "      <td>nl_places.factual.v3_49.1484024731.tab</td>\n",
       "      <td>10/01/2017 06:05:31</td>\n",
       "      <td>31/01/2017 13:03:44</td>\n",
       "      <td>23</td>\n",
       "      <td>641a864ad64a8ec8e25206725ff3be5c</td>\n",
       "    </tr>\n",
       "    <tr>\n",
       "      <th>50373</th>\n",
       "      <td>7f048f80-7986-4ffd-80ba-8a07c2aac163</td>\n",
       "      <td>Zeetuin Kinderdagverblijf De</td>\n",
       "      <td>Schiewg 147d-149a</td>\n",
       "      <td>NaN</td>\n",
       "      <td>NaN</td>\n",
       "      <td>Rotterdam</td>\n",
       "      <td>Zuid-Holland</td>\n",
       "      <td>NaN</td>\n",
       "      <td>NaN</td>\n",
       "      <td>3038 AN</td>\n",
       "      <td>...</td>\n",
       "      <td>NaN</td>\n",
       "      <td>NaN</td>\n",
       "      <td>NaN</td>\n",
       "      <td>NaN</td>\n",
       "      <td>0.6</td>\n",
       "      <td>nl_places.factual.v3_49.1484024731.tab</td>\n",
       "      <td>10/01/2017 06:05:31</td>\n",
       "      <td>31/01/2017 13:03:44</td>\n",
       "      <td>23</td>\n",
       "      <td>a3f98044255d2eba1276a1a1fa34e857</td>\n",
       "    </tr>\n",
       "  </tbody>\n",
       "</table>\n",
       "<p>2 rows × 30 columns</p>\n",
       "</div>"
      ],
      "text/plain": [
       "                                 factual_id                          name  \\\n",
       "37721  f033fad0-94f3-4f9e-b8f0-beaa60f93fbf  Zeetuin Kinderdagverblijf De   \n",
       "50373  7f048f80-7986-4ffd-80ba-8a07c2aac163  Zeetuin Kinderdagverblijf De   \n",
       "\n",
       "                 address address_extended  po_box   locality        region  \\\n",
       "37721    Statenweg 123/A              NaN     NaN  Rotterdam  Zuid-Holland   \n",
       "50373  Schiewg 147d-149a              NaN     NaN  Rotterdam  Zuid-Holland   \n",
       "\n",
       "       post_town  admin_region postcode                ...                 \\\n",
       "37721        NaN           NaN  3039 HK                ...                  \n",
       "50373        NaN           NaN  3038 AN                ...                  \n",
       "\n",
       "      chain_name chain_id hours  hours_display  existence  \\\n",
       "37721        NaN      NaN   NaN            NaN        0.6   \n",
       "50373        NaN      NaN   NaN            NaN        0.6   \n",
       "\n",
       "                                _org_filename        _org_filedate  \\\n",
       "37721  nl_places.factual.v3_49.1484024731.tab  10/01/2017 06:05:31   \n",
       "50373  nl_places.factual.v3_49.1484024731.tab  10/01/2017 06:05:31   \n",
       "\n",
       "                 _imported __main_category_id  \\\n",
       "37721  31/01/2017 13:03:44                 23   \n",
       "50373  31/01/2017 13:03:44                 23   \n",
       "\n",
       "                                 __hash  \n",
       "37721  641a864ad64a8ec8e25206725ff3be5c  \n",
       "50373  a3f98044255d2eba1276a1a1fa34e857  \n",
       "\n",
       "[2 rows x 30 columns]"
      ]
     },
     "execution_count": 9,
     "metadata": {},
     "output_type": "execute_result"
    }
   ],
   "source": [
    "df_factual[df_factual['name'].str.contains('Zeetuin')] "
   ]
  },
  {
   "cell_type": "markdown",
   "metadata": {
    "collapsed": true
   },
   "source": [
    "### Geolocation Data\n",
    "Each of the data sets contains geolocation data (latitude and longitude), this provides a good point for crossreferencing data. We can start by using the location to find what else is located nearby. The first step is plotting locations. The packages `matplotlib` and `sklearn` will be useful here."
   ]
  },
  {
   "cell_type": "code",
   "execution_count": 10,
   "metadata": {
    "collapsed": true
   },
   "outputs": [],
   "source": [
    "import matplotlib.pyplot as plt\n",
    "from sklearn.cluster import DBSCAN\n",
    "\n",
    "%matplotlib inline"
   ]
  },
  {
   "cell_type": "markdown",
   "metadata": {},
   "source": [
    "The first step is plotting the location latitude and longitude for each item in the data (choosing the Facebook data because it's smallest). Using an alpha value of .4 lets us see where the points are stacked on top of each other. In this case, the majority appear in a cluster to the right. Points outside this cluster are likely wrong. One example is for a place called 'Soulbrothers' that claims to be in Rotterdam, NL, but shows coordinates for Las Vegas, NV. Some cleaning of the data would be required to resolve this."
   ]
  },
  {
   "cell_type": "code",
   "execution_count": 11,
   "metadata": {},
   "outputs": [
    {
     "data": {
      "image/png": "[encoded data removed]",
      "text/plain": [
       "<matplotlib.figure.Figure at 0x7f886cc8a320>"
      ]
     },
     "metadata": {},
     "output_type": "display_data"
    }
   ],
   "source": [
    "fig, ax = plt.subplots()\n",
    "fig.set_size_inches(10, 6)\n",
    "loc_scatter = ax.scatter(df_facebook['location_longitude'], df_facebook['location_latitude'], alpha=.4)\n",
    "\n",
    "plt.show()"
   ]
  },
  {
   "cell_type": "markdown",
   "metadata": {},
   "source": [
    "The data from Google has better coordinate data. The scale of the plot has a tighter range, and the clustering around Rotterdam is much more visible. There are fewer points that need to be fixed or explained before use."
   ]
  },
  {
   "cell_type": "code",
   "execution_count": 12,
   "metadata": {},
   "outputs": [
    {
     "data": {
      "image/png": "[encoded data removed]",
      "text/plain": [
       "<matplotlib.figure.Figure at 0x7f886c872d68>"
      ]
     },
     "metadata": {},
     "output_type": "display_data"
    }
   ],
   "source": [
    "fig, ax = plt.subplots()\n",
    "fig.set_size_inches(10, 6)\n",
    "loc_scatter = ax.scatter(df_google['geometry_location_lng'], df_google['geometry_location_lat'], alpha=.4)\n",
    "\n",
    "plt.show()"
   ]
  },
  {
   "cell_type": "markdown",
   "metadata": {},
   "source": [
    "Ideally, any points outside a range that defines the boundaries of Rotterdam, NL, would be identified and corrected or simply eliminated from the data. The remaining points could then be mapped onto a map of Rotterdam and used to identify popular areas, or identify similar locations based on similarity in their characteristics (location, opening hours, type of business, etc). It can be seen that the shapes become recognizable once the outliers are removed."
   ]
  },
  {
   "cell_type": "code",
   "execution_count": 13,
   "metadata": {
    "scrolled": false
   },
   "outputs": [
    {
     "data": {
      "image/png": "[encoded data removed]",
      "text/plain": [
       "<matplotlib.figure.Figure at 0x7f886c509048>"
      ]
     },
     "metadata": {},
     "output_type": "display_data"
    }
   ],
   "source": [
    "fig, ax = plt.subplots()\n",
    "fig.set_size_inches(10, 6)\n",
    "loc_scatter = ax.scatter(\n",
    "    df_google['geometry_location_lng'].iloc[:50000], \n",
    "    df_google['geometry_location_lat'].iloc[:50000], \n",
    "    alpha=.4)\n",
    "\n",
    "plt.show()"
   ]
  },
  {
   "cell_type": "markdown",
   "metadata": {},
   "source": [
    "Clustering can make the data representation more efficient and do a better job of showing overlap in denser locations. It can be tempting to use k-means to group locations around k centroids on the map. However, k-means algorithms are not very robust for geo-spatial data. DBSCAN from sklearn is considered a better option."
   ]
  },
  {
   "cell_type": "code",
   "execution_count": 14,
   "metadata": {},
   "outputs": [
    {
     "data": {
      "text/plain": [
       "46"
      ]
     },
     "execution_count": 14,
     "metadata": {},
     "output_type": "execute_result"
    }
   ],
   "source": [
    "coords = df_google.as_matrix(columns=['geometry_location_lat', 'geometry_location_lat'])\n",
    "loc_clusters = DBSCAN(eps=.0001, min_samples=10, n_jobs=-1).fit(coords)\n",
    "unique_labels = set(loc_clusters.labels_)\n",
    "len(unique_labels)"
   ]
  },
  {
   "cell_type": "markdown",
   "metadata": {},
   "source": [
    "The algorithm has created 46 unique groupings based on the spatial data. Borrowing heavily from the [SkLearn demo](http://scikit-learn.org/stable/auto_examples/cluster/plot_dbscan.html) we could use these labels as a mask for plotting the locations. This method has an additional advantage of being able to remove some of the noise mentioned previously. Individual points far outside the main body of the points won't register. It also decides the appropriate number of clusters from the paramaters and can run multiple jobs at once, reducing the time for processing."
   ]
  },
  {
   "cell_type": "markdown",
   "metadata": {},
   "source": [
    "### Text Analysis\n",
    "\n",
    "Spacy allows for sophisticated, robust, and fast text analysis and natural language processing. Spacy offers a number of [tutorials](https://spacy.io/docs/usage/) on basic usage that cover the preliminary steps of things like entity recognition. The standard models are available for English, German, and French. Work is being done on models for the Dutch language, but Spacy also allows for the training of custom models for use in a pipeline."
   ]
  },
  {
   "cell_type": "code",
   "execution_count": 15,
   "metadata": {
    "collapsed": true
   },
   "outputs": [],
   "source": [
    "import spacy\n",
    "nlp = spacy.load('en') # this assumes `python -m spacy download en` has been run after installing Spacy\n",
    "doc = nlp(df_facebook['description'].iloc[14474])"
   ]
  },
  {
   "cell_type": "markdown",
   "metadata": {},
   "source": [
    "Once in a document is loaded in, the model is applied and many of the features of the model are immediately trained and available for use. This requires the suitable model for the text being used, but should work as well on a small text as it does on a larger text. The results are only as good as the quality of the model, but the ability to use custom models allows for specialization to types of text an new languages."
   ]
  },
  {
   "cell_type": "code",
   "execution_count": 16,
   "metadata": {},
   "outputs": [
    {
     "data": {
      "text/plain": [
       "'Rotterdam a booming business city full of opportunities; and with that it needs a proper party scene providing you with the proper accompanying entertainment.\\n\\nElise is there to welcome you to the actual nightlife in Rotterdam! She will organize THE international party celebrating the beginning and end of your studies of each term. She will be showing you a refreshing and innovative way to party like a king in THE city of the Netherlands! Be surprised by the new innovative concepts Elise will show you; allowing you to create experiences you have never had before.\\n\\nDrink in style, party with class and show her what you got!\\n\\n“When I’m good, I’m good…but when I’m bad I’m better”\\n'"
      ]
     },
     "execution_count": 16,
     "metadata": {},
     "output_type": "execute_result"
    }
   ],
   "source": [
    "df_facebook['description'].iloc[14474]"
   ]
  },
  {
   "cell_type": "code",
   "execution_count": 17,
   "metadata": {},
   "outputs": [
    {
     "name": "stdout",
     "output_type": "stream",
     "text": [
      "Rotterdam 277080 rotterdam 475 NNP 94 PROPN\n",
      "a 506 a 460 DT 88 DET\n",
      "booming 314988 booming 467 JJ 82 ADJ\n",
      "business 1088 business 474 NN 90 NOUN\n",
      "city 1962 city 474 NN 90 NOUN\n",
      "full 1171 full 467 JJ 82 ADJ\n",
      "of 510 of 466 IN 83 ADP\n",
      "opportunities 2832 opportunity 477 NNS 90 NOUN\n",
      "; 620 ; 454 : 95 PUNCT\n",
      "and 512 and 458 CC 87 CCONJ\n",
      "with 548 with 466 IN 83 ADP\n",
      "that 514 that 460 DT 88 DET\n",
      "it 757862 -PRON- 479 PRP 93 PRON\n",
      "needs 730 need 493 VBZ 98 VERB\n",
      "a 506 a 460 DT 88 DET\n",
      "proper 2650 proper 467 JJ 82 ADJ\n",
      "party 978 party 474 NN 90 NOUN\n",
      "scene 3747 scene 474 NN 90 NOUN\n",
      "providing 1721 provide 490 VBG 98 VERB\n",
      "you 757862 -PRON- 479 PRP 93 PRON\n",
      "with 548 with 466 IN 83 ADP\n",
      "the 501 the 460 DT 88 DET\n",
      "proper 2650 proper 467 JJ 82 ADJ\n",
      "accompanying 141781 accompanying 467 JJ 82 ADJ\n",
      "entertainment 4765 entertainment 474 NN 90 NOUN\n",
      ". 453 . 453 . 95 PUNCT\n",
      "\n",
      "\n",
      " 517 \n",
      "\n",
      " 485 SP 101 SPACE\n",
      "Elise 85730 elise 475 NNP 94 PROPN\n",
      "is 536 be 493 VBZ 98 VERB\n",
      "there 608 there 481 RB 84 ADV\n",
      "to 504 to 486 TO 92 PART\n",
      "welcome 3471 welcome 488 VB 98 VERB\n",
      "you 757862 -PRON- 479 PRP 93 PRON\n",
      "to 504 to 466 IN 83 ADP\n",
      "the 501 the 460 DT 88 DET\n",
      "actual 1496 actual 467 JJ 82 ADJ\n",
      "nightlife 79298 nightlife 474 NN 90 NOUN\n",
      "in 522 in 466 IN 83 ADP\n",
      "Rotterdam 277080 rotterdam 475 NNP 94 PROPN\n",
      "! 558 ! 453 . 95 PUNCT\n",
      "She 757862 -PRON- 479 PRP 93 PRON\n",
      "will 603 will 471 MD 98 VERB\n",
      "organize 8170 organize 488 VB 98 VERB\n",
      "THE 501 the 460 DT 88 DET\n",
      "international 3469 international 467 JJ 82 ADJ\n",
      "party 978 party 474 NN 90 NOUN\n",
      "celebrating 8962 celebrate 490 VBG 98 VERB\n",
      "the 501 the 460 DT 88 DET\n",
      "beginning 2770 beginning 474 NN 90 NOUN\n",
      "and 512 and 458 CC 87 CCONJ\n",
      "end 948 end 474 NN 90 NOUN\n",
      "of 510 of 466 IN 83 ADP\n",
      "your 757862 -PRON- 480 PRP$ 82 ADJ\n",
      "studies 2223 study 477 NNS 90 NOUN\n",
      "of 510 of 466 IN 83 ADP\n",
      "each 1082 each 460 DT 88 DET\n",
      "term 1277 term 474 NN 90 NOUN\n",
      ". 453 . 453 . 95 PUNCT\n",
      "She 757862 -PRON- 479 PRP 93 PRON\n",
      "will 603 will 471 MD 98 VERB\n",
      "be 536 be 488 VB 98 VERB\n",
      "showing 1054 show 490 VBG 98 VERB\n",
      "you 757862 -PRON- 479 PRP 93 PRON\n",
      "a 506 a 460 DT 88 DET\n",
      "refreshing 194125 refreshing 467 JJ 82 ADJ\n",
      "and 512 and 458 CC 87 CCONJ\n",
      "innovative 645235 innovative 467 JJ 82 ADJ\n",
      "way 677 way 474 NN 90 NOUN\n",
      "to 504 to 466 IN 83 ADP\n",
      "party 978 party 474 NN 90 NOUN\n",
      "like 570 like 466 IN 83 ADP\n",
      "a 506 a 460 DT 88 DET\n",
      "king 4080 king 474 NN 90 NOUN\n",
      "in 522 in 466 IN 83 ADP\n",
      "THE 501 the 460 DT 88 DET\n",
      "city 1962 city 474 NN 90 NOUN\n",
      "of 510 of 466 IN 83 ADP\n",
      "the 501 the 460 DT 88 DET\n",
      "Netherlands 497840 netherlands 475 NNP 94 PROPN\n",
      "! 558 ! 453 . 95 PUNCT\n",
      "Be 536 be 488 VB 98 VERB\n",
      "surprised 2022 surprised 467 JJ 82 ADJ\n",
      "by 605 by 466 IN 83 ADP\n",
      "the 501 the 460 DT 88 DET\n",
      "new 817 new 467 JJ 82 ADJ\n",
      "innovative 645235 innovative 467 JJ 82 ADJ\n",
      "concepts 2139 concept 477 NNS 90 NOUN\n",
      "Elise 85730 elise 475 NNP 94 PROPN\n",
      "will 603 will 471 MD 98 VERB\n",
      "show 1054 show 488 VB 98 VERB\n",
      "you 757862 -PRON- 479 PRP 93 PRON\n",
      "; 620 ; 454 : 95 PUNCT\n",
      "allowing 1762 allow 490 VBG 98 VERB\n",
      "you 757862 -PRON- 479 PRP 93 PRON\n",
      "to 504 to 486 TO 92 PART\n",
      "create 1610 create 488 VB 98 VERB\n",
      "experiences 1281 experience 477 NNS 90 NOUN\n",
      "you 757862 -PRON- 479 PRP 93 PRON\n",
      "have 539 have 492 VBP 98 VERB\n",
      "never 760 never 481 RB 84 ADV\n",
      "had 539 have 491 VBN 98 VERB\n",
      "before 792 before 481 RB 84 ADV\n",
      ". 453 . 453 . 95 PUNCT\n",
      "\n",
      "\n",
      " 517 \n",
      "\n",
      " 485 SP 101 SPACE\n",
      "Drink 2542 drink 488 VB 98 VERB\n",
      "in 522 in 466 IN 83 ADP\n",
      "style 2122 style 474 NN 90 NOUN\n",
      ", 450 , 450 , 95 PUNCT\n",
      "party 978 party 474 NN 90 NOUN\n",
      "with 548 with 466 IN 83 ADP\n",
      "class 1226 class 474 NN 90 NOUN\n",
      "and 512 and 458 CC 87 CCONJ\n",
      "show 1054 show 488 VB 98 VERB\n",
      "her 757862 -PRON- 479 PRP 93 PRON\n",
      "what 594 what 495 WP 90 NOUN\n",
      "you 757862 -PRON- 479 PRP 93 PRON\n",
      "got 618 get 489 VBD 98 VERB\n",
      "! 558 ! 453 . 95 PUNCT\n",
      "\n",
      "\n",
      " 517 \n",
      "\n",
      " 485 SP 101 SPACE\n",
      "“ 524 \" 453 . 95 PUNCT\n",
      "When 634 when 497 WRB 84 ADV\n",
      "I 757862 -PRON- 479 PRP 93 PRON\n",
      "’m 536 be 492 VBP 98 VERB\n",
      "good 673 good 467 JJ 82 ADJ\n",
      ", 450 , 450 , 95 PUNCT\n",
      "I 757862 -PRON- 479 PRP 93 PRON\n",
      "’m 536 be 492 VBP 98 VERB\n",
      "good 673 good 467 JJ 82 ADJ\n",
      "… 776980 … 472 NFP 95 PUNCT\n",
      "but 559 but 458 CC 87 CCONJ\n",
      "when 634 when 497 WRB 84 ADV\n",
      "I 757862 -PRON- 479 PRP 93 PRON\n",
      "’m 536 be 492 VBP 98 VERB\n",
      "bad 804 bad 467 JJ 82 ADJ\n",
      "I 757862 -PRON- 479 PRP 93 PRON\n",
      "’m 536 be 492 VBP 98 VERB\n",
      "better 673 good 468 JJR 82 ADJ\n",
      "” 524 \" 453 . 95 PUNCT\n",
      "\n",
      " 518 \n",
      " 485 SP 101 SPACE\n"
     ]
    }
   ],
   "source": [
    "for word in doc:\n",
    "    print(word.text, word.lemma, word.lemma_, word.tag, word.tag_, word.pos, word.pos_)"
   ]
  },
  {
   "cell_type": "markdown",
   "metadata": {},
   "source": [
    "The model also provides entity recognition that can be trained to recognize new entities relatively easily. As can be seen here, the model does need some additional training. It reads the name Elise as an organization, and reads 'THE' as the lead into organizations as well. Originally, I classified the inclusion of the name Elise under `ORG` for arganization as an error. However, it turns out the namee of the organization is *Elise Events* and SpaCy may be picking up on that in the usage."
   ]
  },
  {
   "cell_type": "code",
   "execution_count": 18,
   "metadata": {},
   "outputs": [
    {
     "name": "stdout",
     "output_type": "stream",
     "text": [
      "Rotterdam 3 GPE\n",
      "a 2 \n",
      "booming 2 \n",
      "business 2 \n",
      "city 2 \n",
      "full 2 \n",
      "of 2 \n",
      "opportunities 2 \n",
      "; 2 \n",
      "and 2 \n",
      "with 2 \n",
      "that 2 \n",
      "it 2 \n",
      "needs 2 \n",
      "a 2 \n",
      "proper 2 \n",
      "party 2 \n",
      "scene 2 \n",
      "providing 2 \n",
      "you 2 \n",
      "with 2 \n",
      "the 2 \n",
      "proper 2 \n",
      "accompanying 2 \n",
      "entertainment 2 \n",
      ". 2 \n",
      "\n",
      "\n",
      " 2 \n",
      "Elise 3 ORG\n",
      "is 2 \n",
      "there 2 \n",
      "to 2 \n",
      "welcome 2 \n",
      "you 2 \n",
      "to 2 \n",
      "the 2 \n",
      "actual 2 \n",
      "nightlife 2 \n",
      "in 2 \n",
      "Rotterdam 3 GPE\n",
      "! 2 \n",
      "She 2 \n",
      "will 2 \n",
      "organize 2 \n",
      "THE 3 ORG\n",
      "international 1 ORG\n",
      "party 2 \n",
      "celebrating 2 \n",
      "the 2 \n",
      "beginning 2 \n",
      "and 2 \n",
      "end 2 \n",
      "of 2 \n",
      "your 2 \n",
      "studies 2 \n",
      "of 2 \n",
      "each 2 \n",
      "term 2 \n",
      ". 2 \n",
      "She 2 \n",
      "will 2 \n",
      "be 2 \n",
      "showing 2 \n",
      "you 2 \n",
      "a 2 \n",
      "refreshing 2 \n",
      "and 2 \n",
      "innovative 2 \n",
      "way 2 \n",
      "to 2 \n",
      "party 2 \n",
      "like 2 \n",
      "a 2 \n",
      "king 2 \n",
      "in 2 \n",
      "THE 3 GPE\n",
      "city 1 GPE\n",
      "of 1 GPE\n",
      "the 2 \n",
      "Netherlands 3 GPE\n",
      "! 2 \n",
      "Be 2 \n",
      "surprised 2 \n",
      "by 2 \n",
      "the 2 \n",
      "new 2 \n",
      "innovative 2 \n",
      "concepts 2 \n",
      "Elise 3 ORG\n",
      "will 2 \n",
      "show 2 \n",
      "you 2 \n",
      "; 2 \n",
      "allowing 2 \n",
      "you 2 \n",
      "to 2 \n",
      "create 2 \n",
      "experiences 2 \n",
      "you 2 \n",
      "have 2 \n",
      "never 2 \n",
      "had 2 \n",
      "before 2 \n",
      ". 2 \n",
      "\n",
      "\n",
      " 2 \n",
      "Drink 2 \n",
      "in 2 \n",
      "style 2 \n",
      ", 2 \n",
      "party 2 \n",
      "with 2 \n",
      "class 2 \n",
      "and 2 \n",
      "show 2 \n",
      "her 2 \n",
      "what 2 \n",
      "you 2 \n",
      "got 2 \n",
      "! 2 \n",
      "\n",
      "\n",
      " 2 \n",
      "“ 2 \n",
      "When 2 \n",
      "I 2 \n",
      "’m 2 \n",
      "good 2 \n",
      ", 2 \n",
      "I 2 \n",
      "’m 2 \n",
      "good 2 \n",
      "… 2 \n",
      "but 2 \n",
      "when 2 \n",
      "I 2 \n",
      "’m 2 \n",
      "bad 2 \n",
      "I 2 \n",
      "’m 2 \n",
      "better 2 \n",
      "” 2 \n",
      "\n",
      " 2 \n"
     ]
    }
   ],
   "source": [
    "for word in doc:\n",
    "    print(word.text, word.ent_iob, word.ent_type_)"
   ]
  },
  {
   "cell_type": "markdown",
   "metadata": {},
   "source": [
    "Spacy also uses pretrained, 300-dimensional vectors using the GloVe algorithm. Vectors are available for individual tokens and for whole documents. If the standard vectors are not suitable, it is easy to import a new set using custom training on a corpus."
   ]
  },
  {
   "cell_type": "code",
   "execution_count": 19,
   "metadata": {},
   "outputs": [
    {
     "name": "stdout",
     "output_type": "stream",
     "text": [
      "[  2.87487078e-02   1.34127095e-01  -1.12616926e-01  -6.46263063e-02\n",
      "   8.59907344e-02  -3.01089697e-02   1.48141594e-03  -7.15659410e-02\n",
      "  -1.24937808e-02   2.04432034e+00  -2.37107277e-01   2.97395550e-02\n",
      "   2.59523708e-02  -6.27263403e-03  -6.42994940e-02  -6.35967702e-02\n",
      "  -8.19167346e-02   1.03017926e+00  -2.26013482e-01  -3.39418538e-02\n",
      "   1.18925851e-02  -6.36380017e-02  -5.37270419e-02  -4.31634523e-02\n",
      "   7.66084471e-04   3.37663628e-02  -3.61130796e-02  -3.44188213e-02\n",
      "  -3.88343376e-03  -7.62464702e-02  -4.15372383e-03   5.64913452e-02\n",
      "  -6.15795404e-02   8.77584144e-02   6.45118356e-02  -7.07166642e-02\n",
      "   1.45631954e-02   2.75556110e-02  -6.77631423e-02  -8.33967030e-02\n",
      "   1.33263329e-02   6.09413683e-02  -1.26259737e-02  -1.07860029e-01\n",
      "   7.08614429e-03   1.04662098e-01  -1.21576585e-01  -1.55950263e-02\n",
      "   2.07074992e-02  -2.74955705e-02  -3.50871272e-02   4.83535379e-02\n",
      "   2.76877098e-02  -1.31209493e-02   4.47620787e-02   3.22623439e-02\n",
      "   1.44080622e-02  -6.28291294e-02  -3.01247500e-02  -7.95240849e-02\n",
      "  -2.39775907e-02  -2.27190573e-02  -2.76788455e-02   1.55343756e-01\n",
      "   5.83071820e-02  -4.43499237e-02  -1.16321426e-02   8.14583451e-02\n",
      "   6.54917508e-02   9.85896066e-02   3.41357291e-02   6.71857819e-02\n",
      "   1.70739636e-01  -5.26376367e-02   5.66164106e-02   7.78481271e-03\n",
      "   5.85630201e-02  -6.73188120e-02  -3.22590545e-02   1.67766646e-01\n",
      "  -2.04438604e-02   9.69238654e-02  -1.05195232e-01  -2.45254245e-02\n",
      "  -1.54033280e-03  -1.32127926e-01  -1.34366304e-01  -3.65059003e-02\n",
      "   2.15368479e-01   5.54285794e-02  -1.01651460e-01   1.21464944e-02\n",
      "  -5.42182708e-03   6.74118400e-02   8.19895715e-02  -1.69252455e-02\n",
      "  -3.59753780e-02  -4.96262722e-02  -1.95984058e-02   2.16422528e-02\n",
      "  -2.09785439e-03   4.40636603e-03  -7.16212168e-02  -9.17221382e-02\n",
      "   7.48863965e-02  -5.99594176e-01   1.39504001e-01   1.69846918e-02\n",
      "   3.63213941e-02  -6.20241426e-02  -4.20513999e-04  -1.30200043e-01\n",
      "   9.83699560e-02  -2.78499387e-02   4.41786498e-02  -7.46203214e-02\n",
      "   1.26766060e-02   5.10513447e-02  -5.17861210e-02  -1.29817799e-02\n",
      "   5.62422350e-02  -3.88917699e-02  -1.66017674e-02   5.18542342e-02\n",
      "   3.01717641e-03   6.02559410e-02  -2.03098319e-02  -1.18705049e-01\n",
      "   1.82584636e-02  -1.38399027e-05  -2.37185229e-02  -4.11419943e-02\n",
      "  -1.06734365e-01   1.75856687e-02   9.53721181e-02   4.51533943e-02\n",
      "  -3.75813320e-02   5.89341950e-03   5.05993422e-03  -4.46690246e-02\n",
      "  -1.14925706e+00   4.18016054e-02   7.69619048e-02  -1.81823205e-02\n",
      "   2.62001771e-02  -9.12742615e-02  -3.21540870e-02   4.30589765e-02\n",
      "   1.30434092e-02  -6.78390637e-02  -4.86739837e-02   5.86638227e-02\n",
      "   6.92923963e-02   1.66778676e-02  -2.19569840e-02  -2.56662276e-02\n",
      "  -4.20381799e-02  -7.30792210e-02  -1.73001997e-02  -6.53225929e-02\n",
      "  -5.21545075e-02   5.24771884e-02  -2.37999875e-02  -4.96209711e-02\n",
      "   4.31467517e-04  -1.57231748e-01   8.55472162e-02  -1.84487589e-02\n",
      "   1.49217024e-01   2.85856798e-02   1.60426367e-02  -2.51242165e-02\n",
      "   7.24675283e-02  -4.53594923e-02  -6.08868413e-02   4.28630970e-02\n",
      "  -6.70378059e-02   1.62713155e-02   2.23268755e-03  -1.15443943e-02\n",
      "   8.33820831e-03  -7.99726769e-02  -7.94374570e-02  -6.71177357e-02\n",
      "  -5.85458949e-02   3.69749814e-02  -8.81400853e-02  -2.45477799e-02\n",
      "   2.48393752e-02   1.93281509e-02  -6.14929870e-02  -1.86956655e-02\n",
      "  -7.19730780e-02   3.57946940e-02   5.92157394e-02   1.44772381e-01\n",
      "  -5.95663674e-02  -6.60134628e-02   1.98443327e-03   1.69561595e-01\n",
      "  -2.83453856e-02  -4.98345718e-02  -6.45691976e-02  -1.90292001e-02\n",
      "   1.73211798e-01   7.95141980e-02   3.70323062e-02   4.24204208e-02\n",
      "   3.04131992e-02  -1.07221100e-02  -1.23302348e-01  -3.81467678e-02\n",
      "  -7.44454712e-02  -1.16584010e-01   1.19472081e-02   1.90814570e-01\n",
      "  -5.68046533e-02  -3.96777019e-02  -1.39228806e-01   4.36459631e-02\n",
      "   9.18782502e-03  -3.46588381e-02  -3.61126401e-02   5.04157804e-02\n",
      "  -3.87126068e-03   1.58487260e-02   1.37865962e-02   1.28619403e-01\n",
      "   2.06155950e-04   6.93397317e-03  -1.09890446e-01   2.65979990e-02\n",
      "   4.46593985e-02   7.42877945e-02  -6.51169121e-02  -1.55718615e-02\n",
      "  -4.49972190e-02  -8.17129686e-02  -9.47085693e-02   6.93708584e-02\n",
      "   5.80196716e-02   3.42615359e-02   2.86316499e-02   8.15119147e-02\n",
      "   1.26651734e-01  -1.25285685e-01  -6.16755933e-02  -1.00662872e-01\n",
      "  -1.56123206e-01   8.20194706e-02   2.52002850e-02  -3.35472263e-02\n",
      "  -5.57177365e-02  -3.03592570e-02   2.84350440e-02   2.39264831e-01\n",
      "   1.31507054e-01  -8.92891139e-02  -5.30142486e-02   2.88933609e-02\n",
      "   7.48770535e-02   1.36885554e-01  -1.19667230e-02   8.23802799e-02\n",
      "   1.00490659e-01  -8.99304599e-02   7.61663727e-03   6.69177771e-02\n",
      "   3.39732647e-01  -8.81967600e-03  -2.39351410e-02  -4.04989719e-02\n",
      "  -1.20648161e-01  -1.07087865e-01  -2.78439820e-02   1.07411891e-02\n",
      "  -1.34459138e-02   9.28670093e-02   7.06949458e-02   1.93008140e-01\n",
      "   1.65261760e-01   1.15494458e-02   1.22581860e-02  -2.87780631e-02\n",
      "  -4.67412733e-02  -8.27841088e-02   1.57392114e-01  -1.04753412e-02\n",
      "   1.39684245e-01  -4.16958183e-02  -1.87987179e-01   7.24684298e-02\n",
      "  -2.01759115e-03  -8.13595504e-02   2.11832728e-02  -7.23333284e-02\n",
      "  -5.86175993e-02  -3.67515944e-02   3.53122838e-02   7.68062919e-02]\n",
      "[ -2.68830001e-01   6.50520027e-01  -8.82669985e-02  -6.66939974e-01\n",
      "   5.30330002e-01  -7.27799982e-02  -2.36230001e-01  -1.86169997e-01\n",
      "   3.75239998e-01   2.89610004e+00  -8.23459983e-01   5.42329997e-02\n",
      "  -1.27100006e-01  -2.87519991e-02   1.29219994e-01   1.53730005e-01\n",
      "  -6.79180026e-02   1.68550003e+00  -2.07000002e-01   2.16289997e-01\n",
      "  -4.06769998e-02   2.16619998e-01  -3.99269998e-01  -1.27560005e-01\n",
      "   5.73390007e-01  -2.27740005e-01  -2.27809995e-01   3.57160002e-01\n",
      "  -2.70370007e-01  -1.58690006e-01  -9.87320021e-02  -1.22419998e-01\n",
      "  -6.79360032e-02  -8.50310028e-02   2.65899986e-01  -9.20690037e-03\n",
      "   3.35660011e-01  -1.81520000e-01  -7.01989979e-03  -9.87209976e-02\n",
      "  -1.55320004e-01  -5.37290014e-02   9.42569971e-02  -2.51789987e-01\n",
      "  -4.65939999e-01   2.80330002e-01   1.00050002e-01  -2.92530000e-01\n",
      "   2.66959995e-01  -3.07249993e-01   2.82110006e-01  -3.03470008e-02\n",
      "   2.88560003e-01   9.94819999e-02   1.06129996e-01   4.81810011e-02\n",
      "   2.23110005e-01  -1.73090007e-02   3.74249995e-01  -2.73580015e-01\n",
      "   2.96070009e-01  -4.83949989e-01  -7.06709996e-02   1.40239999e-01\n",
      "   6.22330010e-01  -2.23519996e-01   9.36459973e-02   4.27509993e-01\n",
      "  -2.87979990e-01   9.92290005e-02  -4.59760010e-01  -2.51390010e-01\n",
      "  -5.24049997e-03   2.42559999e-01  -3.16320002e-01   4.75560009e-01\n",
      "   3.23390007e-01  -3.50959986e-01  -1.30909994e-01   2.29100004e-01\n",
      "   9.85239968e-02   6.28309995e-02   2.77630001e-01  -3.76650006e-01\n",
      "  -2.63379991e-01   6.50979996e-01  -6.29270017e-01   8.23300004e-01\n",
      "   6.03990018e-01  -1.11869998e-01  -3.14599991e-01   1.79560006e-01\n",
      "  -1.93289995e-01   1.90670006e-02   2.56019998e-02  -1.19310003e-02\n",
      "  -3.57969999e-01  -5.35390019e-01  -1.79120004e-01  -5.38330019e-01\n",
      "  -6.53719977e-02   9.89510026e-03  -3.19829993e-02   1.62310004e-01\n",
      "   5.06209992e-02  -1.04170001e+00   2.20469996e-01  -1.14780001e-01\n",
      "   1.93049997e-01   4.38219994e-01   1.61860004e-01  -1.17279999e-01\n",
      "   5.40589988e-02  -8.92740022e-03   1.57230005e-01  -2.80939996e-01\n",
      "   4.87120003e-01  -1.85749993e-01   3.59449983e-02   1.12130001e-01\n",
      "  -4.17159982e-02   2.00179994e-01   1.31329998e-01   2.83870012e-01\n",
      "  -6.29860014e-02   1.04649998e-01   3.75869982e-02   1.61229998e-01\n",
      "  -7.92919993e-02  -2.27039993e-01  -4.95530013e-03  -1.72539994e-01\n",
      "   1.85929999e-01   1.08199999e-01  -3.37320000e-01  -2.45069996e-01\n",
      "  -6.65530026e-01  -1.01000004e-01   3.91980000e-02  -2.50319988e-01\n",
      "  -1.23420000e-01  -7.51659989e-01   7.55070001e-02  -3.32800001e-01\n",
      "   1.67300001e-01  -7.71379992e-02   1.38139993e-01   1.61880001e-01\n",
      "   1.79020002e-01   2.59999990e-01   5.36859989e-01  -9.81919989e-02\n",
      "   4.06879991e-01  -5.10980026e-04   3.62599999e-01   1.96869999e-01\n",
      "  -1.40849993e-01  -2.24069998e-01  -1.68750007e-02  -4.62870002e-02\n",
      "  -2.39710003e-01  -1.89099997e-01   5.14320005e-03  -5.02399981e-01\n",
      "  -1.49880007e-01  -5.34529984e-01   2.07200006e-01  -1.91609994e-01\n",
      "   2.99840003e-01  -1.35739997e-01   3.14989984e-02  -1.19029999e-01\n",
      "  -2.85769999e-01  -2.12009996e-01   1.53579995e-01  -2.32630000e-01\n",
      "  -2.79449999e-01   1.56240001e-01   2.08320007e-01   4.63629991e-01\n",
      "   6.11069977e-01   2.98369993e-02   2.16169998e-01  -4.41249996e-01\n",
      "  -4.25179988e-01   5.09180009e-01  -3.76100004e-01  -4.32850011e-02\n",
      "   2.65579998e-01   1.41650006e-01   2.56390005e-01  -1.79529991e-02\n",
      "   3.31110001e-01   1.48090005e-01  -2.49339998e-01   6.27869964e-02\n",
      "   6.41730011e-01   2.98250001e-02   5.52020013e-01   4.87309992e-01\n",
      "   5.50859988e-01  -2.57730007e-01  -1.91819996e-01   2.13819996e-01\n",
      "  -1.97209999e-01   2.16389999e-01   9.15250033e-02   2.82009989e-01\n",
      "  -1.82940006e-01  -9.45670009e-02  -4.47079986e-01  -2.38150001e-01\n",
      "   1.81449994e-01   4.87830013e-01   6.97589993e-01  -1.45359993e-01\n",
      "  -1.64039999e-01  -4.31930006e-01  -6.38040006e-01  -2.25140005e-01\n",
      "  -3.01629990e-01  -3.07069987e-01  -8.60660002e-02   5.34359992e-01\n",
      "  -1.58120006e-01  -3.96820009e-01  -5.11789978e-01   1.69589996e-01\n",
      "  -5.25380015e-01   8.49490017e-02   2.52080010e-03   9.97569971e-03\n",
      "  -1.91180006e-01  -2.89290011e-01  -9.83339995e-02   2.12090001e-01\n",
      "  -2.32979998e-01  -4.02359992e-01  -4.25200015e-02  -1.15790002e-01\n",
      "   5.48309982e-01  -3.06070000e-01   9.34689999e-01   4.97500002e-01\n",
      "   1.53640002e-01  -3.99329990e-01  -2.54670013e-04  -2.00939998e-01\n",
      "   2.74960008e-02   1.47249997e-01   5.14010012e-01   7.83300027e-02\n",
      "  -3.26530010e-01  -9.76300016e-02   2.78140008e-01  -3.15589994e-01\n",
      "  -2.63940006e-01  -5.55130005e-01  -3.76329988e-01   2.61130005e-01\n",
      "   3.37339997e-01   3.43219995e-01   2.06530005e-01   2.74040014e-01\n",
      "   1.03490002e-01  -6.94040000e-01   1.23210000e-02   1.43730000e-01\n",
      "   5.70860028e-01  -2.02620000e-01  -1.04289997e+00  -4.54219997e-01\n",
      "   2.16370001e-01  -3.02179992e-01   3.60689983e-02   8.00200030e-02\n",
      "  -2.57690012e-01  -2.60809995e-02   5.73210001e-01  -3.65289999e-03\n",
      "  -2.91489989e-01  -7.41730034e-02  -3.68920006e-02   7.13699996e-01\n",
      "  -3.36880013e-02   4.22880016e-02   3.03719997e-01  -2.72080004e-01\n",
      "  -6.67719990e-02  -1.34090006e-01  -8.83149981e-01   2.42990002e-01\n",
      "   3.00689995e-01   8.22110027e-02   7.85790011e-02  -2.38049999e-01\n",
      "  -1.59750000e-01  -6.47810027e-02   6.96159974e-02   1.10119998e-01]\n"
     ]
    }
   ],
   "source": [
    "print(doc.vector)\n",
    "print(doc[3].vector)"
   ]
  },
  {
   "cell_type": "markdown",
   "metadata": {},
   "source": [
    "Using word embedding vectors allows for similarity comparisons. Here we can see that 'better' (3rd token from the end of the document) is more similar to 'good' (12th from the end) than it is to bad (6th from the end). These similarities can also be found for the whole texts in our data. This would allow for finding similar text descriptions within the cluster based on locality described above to find locations with in an area that have similar descriptions. If a company found their product to be successful at a location that highlights its party atmosphere and connection to the nightlife, this could be a way for them to find similar locations within an area that already has a number of locations near each other."
   ]
  },
  {
   "cell_type": "code",
   "execution_count": 20,
   "metadata": {},
   "outputs": [
    {
     "name": "stdout",
     "output_type": "stream",
     "text": [
      "0.817664783783\n",
      "0.67329133779\n"
     ]
    }
   ],
   "source": [
    "print(doc[-3].similarity(doc[-12]))\n",
    "print(doc[-3].similarity(doc[-6]))"
   ]
  },
  {
   "cell_type": "markdown",
   "metadata": {},
   "source": [
    "Spacy has been designed to work well with other packages (including SKLearn). Other algorithms such as TfIdf could be imported and used to find important terms from descriptions. The ability to train and import new models means that you can start with the pretrained models, create a working pipeline, and then continue to improve it by adding more accurate models. These models can then be combined with the clustering algorithms described previously to find characterisitcs of areas based on proximity or other values. These could be further defined by filtering locations based on on other features such as opening times or specializations such as 'coffee' or 'breakfast'. These levels of specification could allow for a finer grained approach to finding new locations for products. It would also be flexible enough to take into account descriptions provided by the locations themselves, or their customers, and compare them to product descriptions or characterisitcs seen as desireable by the owners of the products (ie, if the company wants to focus on a particcular kind of location)."
   ]
  },
  {
   "cell_type": "markdown",
   "metadata": {
    "collapsed": true
   },
   "source": [
    "### Apply NLP to descriptions\n",
    "\n",
    "#### Use vector embedding to analyze document similarity\n",
    "\n",
    "Use SpaCy to create an `nlp` object for each text description in the Facebook dataframe. Then use the similarity method on one of the objects to compare it to the others (the default for SpaCy is cosine similarity). First, convert all the text in records that have a text description (about 30 seconds for 6588 texts using `nlp.pipe()`). Then save several of the NLP objects as references for our search. Finally, calculate which other descriptions are most similar to the reference documents."
   ]
  },
  {
   "cell_type": "code",
   "execution_count": 21,
   "metadata": {
    "collapsed": true
   },
   "outputs": [],
   "source": [
    "from src.functions import apply_nlp_to_column, find_other_documents\n",
    "\n",
    "df_facebook['description_nlp'] = apply_nlp_to_column(df_facebook, 'description')\n",
    "\n",
    "nlp_elise = nlp(df_facebook['description'].iloc[14474])\n",
    "nlp_iweek = nlp(df_facebook['description'].iloc[14466])\n",
    "nlp_mangrove = nlp(df_facebook['description'].iloc[5])\n",
    "\n",
    "sim_elise = find_other_documents(nlp_elise, df_facebook)\n",
    "sim_iweek = find_other_documents(nlp_iweek, df_facebook)\n",
    "sim_mangrove = find_other_documents(nlp_mangrove, df_facebook)"
   ]
  },
  {
   "cell_type": "markdown",
   "metadata": {},
   "source": [
    "Validating the results can be difficult. We can print out the text for each reference item and see that they are each getting a unique set of related descriptions. If necessary, the cosine similarity could also be printed, to see the expected level of similarity. The real problem with this implementation is that the models are are trained for English language texts. As a result, I have chosen only English descriptions as reference documents. The results show how important this training is - all the results were also written in English."
   ]
  },
  {
   "cell_type": "code",
   "execution_count": 22,
   "metadata": {},
   "outputs": [
    {
     "name": "stdout",
     "output_type": "stream",
     "text": [
      "Elise Events\n",
      "Rotterdam a booming business city full of opportunities; and with that it needs a proper party scene providing you with the proper accompanying entertainment.\n",
      "\n",
      "Elise is there to welcome you to the actual nightlife in Rotterdam! She will organize THE international party celebrating the beginning and end of your studies of each term. She will be showing you a refreshing and innovative way to party like a king in THE city of the Netherlands! Be surprised by the new innovative concepts Elise will show you; allowing you to create experiences you have never had before.\n",
      "\n",
      "Drink in style, party with class and show her what you got!\n",
      "\n",
      "“When I’m good, I’m good…but when I’m bad I’m better”\n",
      "\n",
      "                        name  \\\n",
      "3783            Panos Pianos   \n",
      "9927    Hostel Ani & Haakien   \n",
      "12542     VGilst Photography   \n",
      "3184         Roffa Mon Amour   \n",
      "9868    Food & Love Catering   \n",
      "3049         Turn Up Tuesday   \n",
      "11881  Blends Carnival Group   \n",
      "14280              SunSmiles   \n",
      "12565             Drink&draw   \n",
      "3199          HUGH Rotterdam   \n",
      "\n",
      "                                             description  \n",
      "3783   \\nPanos~Pianos \\n\\nHello readers!\\n I would li...  \n",
      "9927   Hostel Ani&Haakien is a backpackers paradise w...  \n",
      "12542  I believe that the ‘personal' creates the magi...  \n",
      "3184   It all started with a huge fondness for arthou...  \n",
      "9868   Let me introduce myself, my name is Patrick an...  \n",
      "3049   TURN UP TUESDAY\\n\\nFrom now on you don’t have ...  \n",
      "11881  Imagine a fusion of diverse cultures having fo...  \n",
      "14280  Full of energy and sunshine, SunSmiles® sandal...  \n",
      "12565  The main goal of drink&draw is to bring people...  \n",
      "3199   Welcome to HUGH.\\n\\nThe place to meet for drin...  \n"
     ]
    }
   ],
   "source": [
    "print(df_facebook['name'].iloc[14474])\n",
    "print(df_facebook['description'].iloc[14474])\n",
    "print(sim_elise)"
   ]
  },
  {
   "cell_type": "code",
   "execution_count": 23,
   "metadata": {},
   "outputs": [
    {
     "name": "stdout",
     "output_type": "stream",
     "text": [
      "Investment Week\n",
      "The B&R Investment Week is aimed at bringing students all across The Netherlands in touch with professionals from the financial industry. This is done through lectures, workshops, hedge fund and private equity case competitions and the B&R Investment Symposium. The B&R Investment Week covers a wide range of different sectors  of the financial industry such as trading, private equity and investing.\n",
      "\n",
      "Lectures are aimed at providing unique insights from financial professionals. There is also room for questions in these lectures. Workshops on the other hand provide you with the opportunity to interact intensively with leading companies from the financial industry.\n",
      "\n",
      "The case competitions focus on Hedge Funds and Private Equity and give you the opportunity to work closely under the supervision of professionals from the alternative investments industry.\n",
      "                                                    name  \\\n",
      "13504                            Robeco Asset Management   \n",
      "11241                                     Shareholder IC   \n",
      "2671                                    KAAN Architecten   \n",
      "11718  AEclipse International Research Project Nicara...   \n",
      "14387                                          Connectis   \n",
      "1674                                           WTSS B.V.   \n",
      "5444                              Rotterdam Expat Centre   \n",
      "9672                     Helios Capital Investment Group   \n",
      "7393                                          Mare Forum   \n",
      "13744                                 Offshore-Crane.Com   \n",
      "\n",
      "                                             description  \n",
      "13504  Robeco offers a broad range of investment stra...  \n",
      "11241  Shareholder Investment Corporation means tens ...  \n",
      "2671   EXPERTISE\\nKAAN Architecten operates across mu...  \n",
      "11718  What is the IRP?\\n\\nAEclipse’s International R...  \n",
      "14387  Proud to be one of the biggest suppliers of id...  \n",
      "1674   Since 2003 WTSS has been a trustworthy solid p...  \n",
      "5444   Rotterdam Expat Centre has laid out the Red Ca...  \n",
      "9672   Welcome to Helios Capital Investment Group! Fo...  \n",
      "7393   The Mare Forum conferences are considered by m...  \n",
      "13744  Offshore-Crane.Com is located in the Rotterdam...  \n"
     ]
    }
   ],
   "source": [
    "print(df_facebook['name'].iloc[14466])\n",
    "print(df_facebook['description'].iloc[14466])\n",
    "print(sim_iweek)"
   ]
  },
  {
   "cell_type": "code",
   "execution_count": 24,
   "metadata": {},
   "outputs": [
    {
     "name": "stdout",
     "output_type": "stream",
     "text": [
      "Mangrove\n",
      "We have designed and built award-winning campaigns, websites, and apps for some of the Netherland’s most iconic organisations. We strive to simplify digital for their customers and help them get the most out of their investments. \n",
      "                                 name  \\\n",
      "8162                             Ranj   \n",
      "7867                     Openprovider   \n",
      "4928                          Label A   \n",
      "11785                     Give a Bike   \n",
      "7987                   Zwaar Contrast   \n",
      "6080                 Ibnbaazbookstore   \n",
      "3506   Marlow Offshore Netherlands BV   \n",
      "2640                         img-plus   \n",
      "11008      Turing Society - Rotterdam   \n",
      "827                  Superuse-Studios   \n",
      "\n",
      "                                             description  \n",
      "8162   We are &ranj, a world-class serious gaming com...  \n",
      "7867   We believe we constantly have to reinvent ours...  \n",
      "4928   Label A is the technical brain behind successf...  \n",
      "11785  Give a bike’s goal is to let anyone in the wor...  \n",
      "7987   Hi there, we’re Zwaar Contrast, a development ...  \n",
      "6080   ABOUT US:\\n\\nIbn Baaz Bookstore is a bookstore...  \n",
      "3506   We are all about people, both our people and t...  \n",
      "2640   IMG+ is a Rotterdam based Partnership. The par...  \n",
      "11008  Turing Society aims to bring together the thre...  \n",
      "827    Welcome to Superuse Studios! Formerly known as...  \n"
     ]
    }
   ],
   "source": [
    "print(df_facebook['name'].iloc[5])\n",
    "print(df_facebook['description'].iloc[5])\n",
    "print(sim_mangrove)"
   ]
  },
  {
   "cell_type": "markdown",
   "metadata": {},
   "source": [
    "##### Investment Week Comparison\n",
    "Here is the description for *Investment Week* for comparison with the description of *Robeco Asset Management*. We can see similar themes of finance and advice. These businesses are clearly in related industries."
   ]
  },
  {
   "cell_type": "code",
   "execution_count": 25,
   "metadata": {},
   "outputs": [
    {
     "name": "stdout",
     "output_type": "stream",
     "text": [
      "Investment Week\n",
      "The B&R Investment Week is aimed at bringing students all across The Netherlands in touch with professionals from the financial industry. This is done through lectures, workshops, hedge fund and private equity case competitions and the B&R Investment Symposium. The B&R Investment Week covers a wide range of different sectors  of the financial industry such as trading, private equity and investing.\n",
      "\n",
      "Lectures are aimed at providing unique insights from financial professionals. There is also room for questions in these lectures. Workshops on the other hand provide you with the opportunity to interact intensively with leading companies from the financial industry.\n",
      "\n",
      "The case competitions focus on Hedge Funds and Private Equity and give you the opportunity to work closely under the supervision of professionals from the alternative investments industry.\n"
     ]
    }
   ],
   "source": [
    "print(df_facebook['name'].iloc[14466])\n",
    "print(df_facebook['description'].iloc[14466])"
   ]
  },
  {
   "cell_type": "code",
   "execution_count": 26,
   "metadata": {},
   "outputs": [
    {
     "name": "stdout",
     "output_type": "stream",
     "text": [
      "Robeco Asset Management\n",
      "Robeco offers a broad range of investment strategies to a wide range of clients all over the world. We believe that our scientific approach sets us apart and helps us to maximize returns and minimize risk for our clients. This means we can better serve our clients (in this case for professional investors only). Whether you’re an institution in need of a complete fiduciary management service, a bank looking for a pooled fund as an investment for private investors or a family office looking to outsource portfolio management responsibilities, we’re here with a solution at hand.\n",
      " \n",
      "We’ve been around for over 80 years, over which time we’ve consistently assessed trends and developments with the long term in mind. We were one of the first companies to grasp the importance of sustainability investing, and were an early proponent of quantitative research. The search for the themes of tomorrow goes on: we are currently moving ahead in fields such as factor investing and integrated asset management solutions for pension funds.\n",
      " \n",
      "Our capabilities stretch from emerging to US equities, from government bonds to high yield credits, from global to thematic funds, and from value to quant strategies. Each investment strategy is run by a specialist investment team. Whatever the market conditions, we can provide you with a selection of products that have good return potential. We also offer our institutional clients a choice of more intricate investment solutions that we can tailor to match their individual needs.\n",
      "\n",
      "This page is for professional investors only.\n",
      "\n"
     ]
    }
   ],
   "source": [
    "print(df_facebook['name'].iloc[13504])\n",
    "print(df_facebook['description'].iloc[13504])"
   ]
  },
  {
   "cell_type": "markdown",
   "metadata": {},
   "source": [
    "##### Mangrove Comparison\n",
    "The text for *Mangrove* is very short, and may even be too short for proper comparison. The description for *Ranj* has been returned as the most similar text. *Ranj* appears to be primarily a gaming company, however both texts emphasize the impact of their companies and the focus they have on developing solutions."
   ]
  },
  {
   "cell_type": "code",
   "execution_count": 27,
   "metadata": {},
   "outputs": [
    {
     "name": "stdout",
     "output_type": "stream",
     "text": [
      "Mangrove\n",
      "We have designed and built award-winning campaigns, websites, and apps for some of the Netherland’s most iconic organisations. We strive to simplify digital for their customers and help them get the most out of their investments. \n"
     ]
    }
   ],
   "source": [
    "print(df_facebook['name'].iloc[5])\n",
    "print(df_facebook['description'].iloc[5])"
   ]
  },
  {
   "cell_type": "code",
   "execution_count": 28,
   "metadata": {},
   "outputs": [
    {
     "name": "stdout",
     "output_type": "stream",
     "text": [
      "Ranj\n",
      "We are &ranj, a world-class serious gaming company located in Rotterdam, Hamburg and Kuala Lumpur. We believe that positive behavioral change can be best achieved through play. Under the vision “Together we build a brighter future” we aim to have measurable impact on the lives of millions of people. We strive to exceed expectations and dare to be out of the ordinary. This is reflected in the unusual, creative solutions we provide. In each project, we challenge clients to combine behavioral change with play. We are not only game fanatics at heart, but a real partner on behavioral change.  \n",
      " \n",
      "We create serious games to help organizations with a variety of issues like complex behavioral change, engaged learning, self-management and knowledge sharing. We provide the client in two ways – high end boutique games that are carefully designed according to the individual demand, or powerful white-label games that can easily be adjusted to the client’s look and feel. We measure the impact of our games with insightful data analytics, both quantitative and qualitative.\n",
      "\n",
      "Since 1999, we have developed and designed over 400 national and international games in the corporate, healthcare and education business. It is without reason that our “work hard, but play even harder” mentality has paid off with prices like the Japan Prize, the European Innovative Games Award and the Accenture Innovation Award.\n",
      "\n"
     ]
    }
   ],
   "source": [
    "print(df_facebook['name'].iloc[8162])\n",
    "print(df_facebook['description'].iloc[8162])"
   ]
  },
  {
   "cell_type": "markdown",
   "metadata": {},
   "source": [
    "#### Use vector matrices to find key words in documents\n",
    "Using tf-idf to weight words in documents based on how often they occur (aand penalizing them if they occur in too many documents), can be an easy way to find some of the words that may be more important to meaning of the document. These wights will be defined for each term in each document. We can store a weight for the relationship of each word to each document in a sparse matrix. Most words will appear in fewer than half the documents, so most word-document intersections will be empty. The matrix uses integer indexes that reference the position of the word in the vocabulary (sorted). Here, the vocabulary has been limited to 1000 words."
   ]
  },
  {
   "cell_type": "code",
   "execution_count": 29,
   "metadata": {
    "collapsed": true
   },
   "outputs": [],
   "source": [
    "from src.functions import spacy_docs_to_df_tfidf, top_n_doc_tokens\n",
    "df_tfidf, tfidf_vocabulary = spacy_docs_to_df_tfidf(df_facebook)"
   ]
  },
  {
   "cell_type": "markdown",
   "metadata": {},
   "source": [
    "Using a small text from the location descriptions, we have a list of words sorted by importance (most important first). The list is smaller than the limit of 10, meaning only some of the words were available in the vocabulary. The text follows for comparison with the word list."
   ]
  },
  {
   "cell_type": "code",
   "execution_count": 30,
   "metadata": {},
   "outputs": [
    {
     "data": {
      "text/plain": [
       "array(['organisation', 'customer', 'build', 'help', 'design', 'website'],\n",
       "      dtype='<U16')"
      ]
     },
     "execution_count": 30,
     "metadata": {},
     "output_type": "execute_result"
    }
   ],
   "source": [
    "top_n_doc_tokens(doc_idx=5, df_tfidf=df_tfidf, vocab=tfidf_vocabulary, max_tokens=10)"
   ]
  },
  {
   "cell_type": "code",
   "execution_count": 31,
   "metadata": {},
   "outputs": [
    {
     "data": {
      "text/plain": [
       "'We have designed and built award-winning campaigns, websites, and apps for some of the Netherland’s most iconic organisations. We strive to simplify digital for their customers and help them get the most out of their investments. '"
      ]
     },
     "execution_count": 31,
     "metadata": {},
     "output_type": "execute_result"
    }
   ],
   "source": [
    "df_facebook.loc[5]['description']"
   ]
  },
  {
   "cell_type": "markdown",
   "metadata": {},
   "source": [
    "This process is also language agnostic - it trains on the words in the document set and calculates their importance based on how often they appear in the documents. It can be noted here that the organization name is not in the list - the way the terms are weighted based based on occurences across a range of documents makes it unlikely that organization name and other words specific to the document will appear - in fact, they should not appear. The tf-idf function for scikit-learn includes a list of stop-words for English that helps eliminate words that contribute less to the meaning of the document. It does not include on for Dutch. Adding a list for Dutch would improve the results here - words like `heen` really should not appear in the list (**note: tf-idf creates a list of words that may be useful as stop-words**)."
   ]
  },
  {
   "cell_type": "code",
   "execution_count": 32,
   "metadata": {},
   "outputs": [
    {
     "data": {
      "text/plain": [
       "array(['jongeren', 'rotterdam', 'wijken', 'geloven', 'straat', 'heen',\n",
       "       'ondersteunen', 'enige', 'vrijwilliger', 'kennen'],\n",
       "      dtype='<U16')"
      ]
     },
     "execution_count": 32,
     "metadata": {},
     "output_type": "execute_result"
    }
   ],
   "source": [
    "top_n_doc_tokens(doc_idx=18, df_tfidf=df_tfidf, vocab=tfidf_vocabulary, max_tokens=10)"
   ]
  },
  {
   "cell_type": "code",
   "execution_count": 33,
   "metadata": {},
   "outputs": [
    {
     "data": {
      "text/plain": [
       "'Wat willen we doen in Rotterdam?\\nDichterbij jongeren komen! Dat is het verlangen van Youth for Christ Rotterdam. Al sinds 2001 zoeken we jongeren op waar ze zijn. We geloven dat alle Rotterdamse jongeren mensen om zich heen nodig hebben die hen hoop geven voor de toekomst en door wie ze Jezus te leren kennen en voor Hem zullen kiezen. \\n\\nActiviteiten\\nYouth for Christ Rotterdam is bekend geworden van het jongernwelzijnswerk van The Mall met jongeren ‘van de straat’.  Rotterdam was altijd een vruchtbare broedplaats voor nieuwe vormen om jongeren te bereiken. Het welzijnswerk van The Mall, het meidenwerk en ook de straatbijbel vinden hun oorsprong in Rotterdam.\\nOp dit moment is het jongerencentrum van The Mall in de Millinxbuurt ons enige uitvoerende jongerenwerk in de stad. \\nDaarnaast zijn we met YfC Rotterdam druk bezig vrijwilligers en kerken te verbinden en te ondersteunen in het opzetten van jongerenwerk in verschillende wijken van Rotterdam.\\n'"
      ]
     },
     "execution_count": 33,
     "metadata": {},
     "output_type": "execute_result"
    }
   ],
   "source": [
    "df_facebook.loc[18]['description']"
   ]
  },
  {
   "cell_type": "markdown",
   "metadata": {},
   "source": [
    "Borrowing heavily from [Sklearn](http://scikit-learn.org/stable/auto_examples/applications/topics_extraction_with_nmf_lda.html#sphx-glr-auto-examples-applications-topics-extraction-with-nmf-lda-py) we can use Latent Dirichlet Allocation (LDA) to some some basic topic modelling across the descriptions. The number of topics and iterations are kept small for this example to make processing facter. The random state is also set to keep the results consistent as this will be run multiple times."
   ]
  },
  {
   "cell_type": "code",
   "execution_count": 34,
   "metadata": {},
   "outputs": [
    {
     "name": "stdout",
     "output_type": "stream",
     "text": [
      "Topic #0:\n",
      "station pedicure line metro massage rotterdam 00u open centraal city locate west south euro initiatief minuten center direct connect erasmus\n",
      "Topic #1:\n",
      "rotterdam wijk maas zuid rotterdamse ligt kerk museum nieuwe café park meter gebouw werden centrum gebouwd charlois kralingen meet oude\n",
      "Topic #2:\n",
      "yoga hillegersberg trendy begrip basis rotterdam mooie jaar modern class body massage gratis doel woman goede studio meet hair onze\n",
      "Topic #3:\n",
      "restaurant cafe chinese foto gerechten facebookpagina alle place rotterdam welkom vind dutch night zakelijk korte groene heel donderdag soorten moderne\n",
      "Topic #4:\n",
      "beauty pagina facebook salon behandelingen hair gevestigd gratis welkom beste rotterdam make parkeren professionele opleidingen nederlands vindt nederlandse centrum merk\n",
      "Topic #5:\n",
      "meet onze rotterdam alle kunt waar wordt nl maken jaar staat eigen producten nieuwe mensen www informatie graag zoal bieden\n",
      "Topic #6:\n",
      "marketing club fitness media communicatie social online webshop therapie sport bureau medium training trainer artikelen personal grootste europa coach merk\n",
      "Topic #7:\n",
      "vrouwen food global facebookpagina plaatsen activiteiten geniet menu bestellen organiseren geeft style boeken deuren vrijblijvend jonge kaart georganiseerd wereld heel\n",
      "Topic #8:\n",
      "rotterdam design www netherlands make nl work world com international good people offer company student business music service provide experience\n",
      "Topic #9:\n",
      "00 30 17 10 18 zaterdag 20 50 zondag vrijdag 12 maandag vanaf 21 11 19 openingstijden woensdag dinsdag donderdag\n",
      "\n"
     ]
    }
   ],
   "source": [
    "from sklearn.decomposition import LatentDirichletAllocation\n",
    "def print_top_words(model, feature_names, n_top_words):\n",
    "    for topic_idx, topic in enumerate(model.components_):\n",
    "        print(\"Topic #%d:\" % topic_idx)\n",
    "        print(\" \".join([feature_names[i]\n",
    "                        for i in topic.argsort()[:-n_top_words - 1:-1]]))\n",
    "    print()\n",
    "n_samples = 2000\n",
    "n_features = 1000\n",
    "n_topics = 10\n",
    "n_top_words = 20\n",
    "lda = LatentDirichletAllocation(n_topics=n_topics, max_iter=5,\n",
    "                                learning_method='online',\n",
    "                                learning_offset=50.,\n",
    "                                random_state=0)\n",
    "lda.fit(df_tfidf.to_coo()) #this is a workaround to eliminate NaN entries, should consider using tfidf object\n",
    "print_top_words(lda, tfidf_vocabulary, n_top_words)"
   ]
  },
  {
   "cell_type": "markdown",
   "metadata": {},
   "source": [
    "Some work needs to be done refining this process, but already we can see the lists contain words that appear related to each other. Topic #9 seems to contain words that are related to time, for example. A larger number of topics would probably be more useful. The number of iterations while fitting the model also affects the quality of the topics."
   ]
  },
  {
   "cell_type": "markdown",
   "metadata": {},
   "source": [
    "#### Use Support Vector Classifier (SVC) to predict categories from Facebook descriptions\n",
    "The Facebook data contains a category classification for the descriptions. If these are consistent, the tfidf vectors and possibly the LDA results may be useful in predicting a category for each description based purely on the information given in the text. "
   ]
  },
  {
   "cell_type": "code",
   "execution_count": null,
   "metadata": {
    "collapsed": true
   },
   "outputs": [],
   "source": []
  }
 ],
 "metadata": {
  "kernelspec": {
   "display_name": "Python 3",
   "language": "python",
   "name": "python3"
  },
  "language_info": {
   "codemirror_mode": {
    "name": "ipython",
    "version": 3
   },
   "file_extension": ".py",
   "mimetype": "text/x-python",
   "name": "python",
   "nbconvert_exporter": "python",
   "pygments_lexer": "ipython3",
   "version": "3.6.2"
  }
 },
 "nbformat": 4,
 "nbformat_minor": 2
}

{
 "cells": [
  {
   "cell_type": "markdown",
   "metadata": {},
   "source": [
    "## Datlinq data assessment\n",
    "The first step is to import the the packages I'll be using. I'll start with Pandas for importing the data and initial cleaning of the data. Various parts of Scikit-Learn will become important in the next steps of processing the data."
   ]
  },
  {
   "cell_type": "code",
   "execution_count": 1,
   "metadata": {
    "collapsed": true
   },
   "outputs": [],
   "source": [
    "import pandas as pd\n",
    "from src.functions import import_json_to_df"
   ]
  },
  {
   "cell_type": "markdown",
   "metadata": {},
   "source": [
    "### Data preparation\n",
    "The first step is to import the data into Pandas to prepare it for processing. The function `import_json_to_df` uses `json_normalize` to flatten nested dicts inside the JSON into new columns. An unfortunate side-effect is that the columns are stored as object types when they should be numeric."
   ]
  },
  {
   "cell_type": "code",
   "execution_count": 2,
   "metadata": {
    "collapsed": true
   },
   "outputs": [],
   "source": [
    "facebook_path = \"data-sample/facebook-rotterdam-20170131.json\"\n",
    "factual_path = \"data-sample/factual-rotterdam-20170207.csv\"\n",
    "google_path = \"data-sample/google-rotterdam-20170207.json\"\n",
    "\n",
    "df_facebook = import_json_to_df(facebook_path)\n",
    "df_factual = pd.read_csv(factual_path)\n",
    "df_google = import_json_to_df(google_path)\n",
    "\n",
    "fb_numeric_columns = df_facebook.columns.str.contains('numberLong')\n",
    "df_facebook[df_facebook.columns[fb_numeric_columns]] = \\\n",
    "    df_facebook[df_facebook.columns[fb_numeric_columns]].apply(pd.to_numeric)"
   ]
  },
  {
   "cell_type": "code",
   "execution_count": 3,
   "metadata": {
    "scrolled": false
   },
   "outputs": [
    {
     "name": "stdout",
     "output_type": "stream",
     "text": [
      "<class 'pandas.core.frame.DataFrame'>\n",
      "RangeIndex: 14516 entries, 0 to 14515\n",
      "Data columns (total 136 columns):\n",
      "__timestamp_$numberLong                         int64\n",
      "__timestamp_basic_$numberLong                   float64\n",
      "__timestamp_detail_$numberLong                  float64\n",
      "__timestamp_insights_$numberLong                float64\n",
      "__timestamp_photos_$numberLong                  float64\n",
      "about                                           object\n",
      "affiliation                                     object\n",
      "artists_we_like                                 object\n",
      "attire                                          object\n",
      "awards                                          object\n",
      "band_interests                                  object\n",
      "band_members                                    object\n",
      "best_page_id                                    object\n",
      "best_page_name                                  object\n",
      "bio                                             object\n",
      "birthday                                        object\n",
      "booking_agent                                   object\n",
      "can_post                                        object\n",
      "category                                        object\n",
      "category_list                                   object\n",
      "company_overview                                object\n",
      "cover_cover_id                                  object\n",
      "cover_id                                        object\n",
      "cover_offset_x_$numberLong                      float64\n",
      "cover_offset_y_$numberLong                      float64\n",
      "cover_source                                    object\n",
      "culinary_team                                   object\n",
      "current_location                                object\n",
      "description                                     object\n",
      "description_html                                object\n",
      "emails                                          object\n",
      "food_styles                                     object\n",
      "founded                                         object\n",
      "general_info                                    object\n",
      "general_manager                                 object\n",
      "genre                                           object\n",
      "has_added_app                                   object\n",
      "hometown                                        object\n",
      "hours_fri_1_close                               object\n",
      "hours_fri_1_open                                object\n",
      "hours_fri_2_close                               object\n",
      "hours_fri_2_open                                object\n",
      "hours_mon_1_close                               object\n",
      "hours_mon_1_open                                object\n",
      "hours_mon_2_close                               object\n",
      "hours_mon_2_open                                object\n",
      "hours_sat_1_close                               object\n",
      "hours_sat_1_open                                object\n",
      "hours_sat_2_close                               object\n",
      "hours_sat_2_open                                object\n",
      "hours_sun_1_close                               object\n",
      "hours_sun_1_open                                object\n",
      "hours_sun_2_close                               object\n",
      "hours_sun_2_open                                object\n",
      "hours_thu_1_close                               object\n",
      "hours_thu_1_open                                object\n",
      "hours_thu_2_close                               object\n",
      "hours_thu_2_open                                object\n",
      "hours_tue_1_close                               object\n",
      "hours_tue_1_open                                object\n",
      "hours_tue_2_close                               object\n",
      "hours_tue_2_open                                object\n",
      "hours_wed_1_close                               object\n",
      "hours_wed_1_open                                object\n",
      "hours_wed_2_close                               object\n",
      "hours_wed_2_open                                object\n",
      "id                                              object\n",
      "influences                                      object\n",
      "insights_data                                   object\n",
      "insights_paging_next                            object\n",
      "insights_paging_previous                        object\n",
      "is_community_page                               object\n",
      "is_permanently_closed                           object\n",
      "is_published                                    object\n",
      "is_unclaimed                                    object\n",
      "is_verified                                     object\n",
      "likes_$numberLong                               float64\n",
      "link                                            object\n",
      "location_city                                   object\n",
      "location_country                                object\n",
      "location_latitude                               float64\n",
      "location_located_in                             object\n",
      "location_longitude                              float64\n",
      "location_state                                  object\n",
      "location_street                                 object\n",
      "location_zip                                    object\n",
      "mission                                         object\n",
      "name                                            object\n",
      "network                                         object\n",
      "parent_page_id                                  object\n",
      "parent_page_name                                object\n",
      "parking_lot_$numberLong                         float64\n",
      "parking_street_$numberLong                      float64\n",
      "parking_valet_$numberLong                       float64\n",
      "payment_options_amex_$numberLong                float64\n",
      "payment_options_cash_only_$numberLong           float64\n",
      "payment_options_discover_$numberLong            float64\n",
      "payment_options_mastercard_$numberLong          float64\n",
      "payment_options_visa_$numberLong                float64\n",
      "personal_info                                   object\n",
      "personal_interests                              object\n",
      "pharma_safety_info                              object\n",
      "phone                                           object\n",
      "photos_data                                     object\n",
      "photos_paging_cursors_after                     object\n",
      "photos_paging_cursors_before                    object\n",
      "photos_paging_next                              object\n",
      "picture_data_is_silhouette                      object\n",
      "picture_data_url                                object\n",
      "place_topics_data                               object\n",
      "press_contact                                   object\n",
      "price_range                                     object\n",
      "produced_by                                     object\n",
      "products                                        object\n",
      "public_transit                                  object\n",
      "release_date                                    object\n",
      "restaurant_services_catering_$numberLong        float64\n",
      "restaurant_services_delivery_$numberLong        float64\n",
      "restaurant_services_groups_$numberLong          float64\n",
      "restaurant_services_kids_$numberLong            float64\n",
      "restaurant_services_outdoor_$numberLong         float64\n",
      "restaurant_services_pickup_$numberLong          float64\n",
      "restaurant_services_reserve_$numberLong         float64\n",
      "restaurant_services_takeout_$numberLong         float64\n",
      "restaurant_services_waiter_$numberLong          float64\n",
      "restaurant_services_walkins_$numberLong         float64\n",
      "restaurant_specialties_breakfast_$numberLong    float64\n",
      "restaurant_specialties_coffee_$numberLong       float64\n",
      "restaurant_specialties_dinner_$numberLong       float64\n",
      "restaurant_specialties_drinks_$numberLong       float64\n",
      "restaurant_specialties_lunch_$numberLong        float64\n",
      "store_number_$numberLong                        float64\n",
      "studio                                          object\n",
      "talking_about_count_$numberLong                 float64\n",
      "website                                         object\n",
      "were_here_count_$numberLong                     float64\n",
      "dtypes: float64(35), int64(1), object(100)\n",
      "memory usage: 15.1+ MB\n"
     ]
    }
   ],
   "source": [
    "df_facebook.info(verbose=True)"
   ]
  },
  {
   "cell_type": "code",
   "execution_count": null,
   "metadata": {
    "collapsed": true
   },
   "outputs": [],
   "source": []
  }
 ],
 "metadata": {
  "kernelspec": {
   "display_name": "Python 3",
   "language": "python",
   "name": "python3"
  },
  "language_info": {
   "codemirror_mode": {
    "name": "ipython",
    "version": 3
   },
   "file_extension": ".py",
   "mimetype": "text/x-python",
   "name": "python",
   "nbconvert_exporter": "python",
   "pygments_lexer": "ipython3",
   "version": "3.6.0"
  }
 },
 "nbformat": 4,
 "nbformat_minor": 2
}
